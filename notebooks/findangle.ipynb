{
 "cells": [
  {
   "cell_type": "heading",
   "metadata": {
    "collapsed": true
   },
   "level": 1,
   "source": [
    "Find angles between 2 lines on the plane for making them perpendicular\n"
   ]
  },
  {
   "cell_type": "code",
   "execution_count": 30,
   "metadata": {
    "collapsed": true
   },
   "outputs": [
    {
     "data": {
      "text/plain": [
       "False"
      ]
     },
     "execution_count": 30,
     "metadata": {},
     "output_type": "execute_result"
    }
   ],
   "source": [
    "from sympy import Point, Line, symbols\n",
    "\n",
    "x, y = symbols('x y')\n",
    "\n",
    "line_a = Line(Point(2, 8), Point(8, 6))\n",
    "line_b = Line(Point(8, 6), Point(4, 4))\n",
    "\n",
    "line_a.is_perpendicular(line_b)\n"
   ]
  },
  {
   "cell_type": "code",
   "execution_count": 42,
   "metadata": {},
   "outputs": [
    {
     "name": "stdout",
     "output_type": "stream",
     "text": [
      "acos(3*sqrt(10)/10)\nacos(-2*sqrt(5)/5)\n"
     ]
    }
   ],
   "source": [
    "# init horizontal line\n",
    "def get_max_cord_from_line_by_index(line: Line, index: int):\n",
    "    if index > 1:\n",
    "        return False\n",
    "    return max([x[index] for x in line.points])\n",
    "\n",
    "\n",
    "horizontal = get_max_cord_from_line_by_index(line_a, 1)\n",
    "vertical = get_max_cord_from_line_by_index(line_b, 0)\n",
    "# init vertical line\n",
    "\n",
    "vertical_line = Line(Point(0, vertical), (1, vertical))\n",
    "\n",
    "# check angle between this lines\n",
    "\n",
    "horizontal_line = Line(Point(0, horizontal), (1, horizontal))\n",
    "\n",
    "#\n",
    "\n",
    "print (horizontal_line.angle_between(line_a))\n",
    "\n",
    "print(vertical_line.angle_between(line_b))"
   ]
  },
  {
   "cell_type": "code",
   "execution_count": 32,
   "metadata": {
    "collapsed": true
   },
   "outputs": [
    {
     "ename": "ValueError",
     "evalue": "The same variable should be used in all univariate expressions being plotted.",
     "traceback": [
      "\u001b[1;31m---------------------------------------------------------------------------\u001b[0m",
      "\u001b[1;31mValueError\u001b[0m                                Traceback (most recent call last)",
      "\u001b[1;32m<ipython-input-32-5beb684f6f21>\u001b[0m in \u001b[0;36m<module>\u001b[1;34m\u001b[0m\n\u001b[0;32m      5\u001b[0m \u001b[1;31m# XXX TODO Add plotting\u001b[0m\u001b[1;33m\u001b[0m\u001b[1;33m\u001b[0m\u001b[0m\n\u001b[0;32m      6\u001b[0m \u001b[1;33m\u001b[0m\u001b[0m\n\u001b[1;32m----> 7\u001b[1;33m \u001b[0mp\u001b[0m \u001b[1;33m=\u001b[0m \u001b[0mplot\u001b[0m\u001b[1;33m(\u001b[0m\u001b[0mline_a\u001b[0m\u001b[1;33m.\u001b[0m\u001b[0mequation\u001b[0m\u001b[1;33m(\u001b[0m\u001b[1;33m)\u001b[0m\u001b[1;33m,\u001b[0m \u001b[1;33m(\u001b[0m\u001b[0mx\u001b[0m\u001b[1;33m,\u001b[0m \u001b[1;33m-\u001b[0m\u001b[1;36m10\u001b[0m\u001b[1;33m,\u001b[0m \u001b[1;36m10\u001b[0m\u001b[1;33m)\u001b[0m\u001b[1;33m)\u001b[0m\u001b[1;33m\u001b[0m\u001b[0m\n\u001b[0m",
      "\u001b[1;32m~\\AppData\\Local\\Programs\\Python\\Python37-32\\lib\\site-packages\\sympy\\plotting\\plot.py\u001b[0m in \u001b[0;36mplot\u001b[1;34m(*args, **kwargs)\u001b[0m\n\u001b[0;32m   1281\u001b[0m             \u001b[1;32mif\u001b[0m \u001b[0mlen\u001b[0m\u001b[1;33m(\u001b[0m\u001b[0mfree\u001b[0m\u001b[1;33m)\u001b[0m \u001b[1;33m>\u001b[0m \u001b[1;36m1\u001b[0m\u001b[1;33m:\u001b[0m\u001b[1;33m\u001b[0m\u001b[0m\n\u001b[0;32m   1282\u001b[0m                 raise ValueError(\n\u001b[1;32m-> 1283\u001b[1;33m                     \u001b[1;34m'The same variable should be used in all '\u001b[0m\u001b[1;33m\u001b[0m\u001b[0m\n\u001b[0m\u001b[0;32m   1284\u001b[0m                     'univariate expressions being plotted.')\n\u001b[0;32m   1285\u001b[0m     \u001b[0mx\u001b[0m \u001b[1;33m=\u001b[0m \u001b[0mfree\u001b[0m\u001b[1;33m.\u001b[0m\u001b[0mpop\u001b[0m\u001b[1;33m(\u001b[0m\u001b[1;33m)\u001b[0m \u001b[1;32mif\u001b[0m \u001b[0mfree\u001b[0m \u001b[1;32melse\u001b[0m \u001b[0mSymbol\u001b[0m\u001b[1;33m(\u001b[0m\u001b[1;34m'x'\u001b[0m\u001b[1;33m)\u001b[0m\u001b[1;33m\u001b[0m\u001b[0m\n",
      "\u001b[1;31mValueError\u001b[0m: The same variable should be used in all univariate expressions being plotted."
     ],
     "output_type": "error"
    }
   ],
   "source": [
    "from sympy.plotting import plot_implicit\n",
    "from sympy import Eq\n",
    "from sympy.plotting import plot\n",
    "\n",
    "# XXX TODO Add plotting\n",
    "\n",
    "# p = plot(line_a.equation(), (x, -10, 10))\n",
    "\n"
   ]
  },
  {
   "cell_type": "code",
   "execution_count": 6,
   "metadata": {},
   "outputs": [],
   "source": []
  },
  {
   "cell_type": "code",
   "execution_count": null,
   "metadata": {},
   "outputs": [],
   "source": []
  }
 ],
 "metadata": {
  "kernelspec": {
   "display_name": "Python 2",
   "language": "python",
   "name": "python2"
  },
  "language_info": {
   "codemirror_mode": {
    "name": "ipython",
    "version": 2
   },
   "file_extension": ".py",
   "mimetype": "text/x-python",
   "name": "python",
   "nbconvert_exporter": "python",
   "pygments_lexer": "ipython2",
   "version": "2.7.6"
  }
 },
 "nbformat": 4,
 "nbformat_minor": 0
}
