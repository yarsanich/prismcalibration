{
 "cells": [
  {
   "cell_type": "heading",
   "metadata": {
    "collapsed": true
   },
   "level": 1,
   "source": [
    "Find angles between 2 lines on the plane for making them perpendicular\n"
   ]
  },
  {
   "cell_type": "code",
   "execution_count": 30,
   "metadata": {
    "collapsed": true
   },
   "outputs": [
    {
     "data": {
      "text/plain": [
       "False"
      ]
     },
     "execution_count": 30,
     "metadata": {},
     "output_type": "execute_result"
    }
   ],
   "source": [
    "from sympy import Point, Line, symbols\n",
    "\n",
    "x, y = symbols('x y')\n",
    "\n",
    "line_a = Line(Point(2, 8), Point(8, 6))\n",
    "line_b = Line(Point(8, 6), Point(4, 4))\n",
    "\n",
    "line_a.is_perpendicular(line_b)\n"
   ]
  },
  {
   "cell_type": "code",
   "execution_count": 89,
   "metadata": {},
   "outputs": [
    {
     "name": "stdout",
     "output_type": "stream",
     "text": [
      "2*x + 6*y - 52,acos(3*sqrt(10)/10)\n2*x - 4*y + 8,acos(3*sqrt(10)/10)\n"
     ]
    }
   ],
   "source": [
    "from mpmath import *\n",
    "\n",
    "# init horizontal line\n",
    "def get_max_cord_from_line_by_index(line: Line, index: int):\n",
    "    if index > 1:\n",
    "        return False\n",
    "    return max([x[index] for x in line.points])\n",
    "\n",
    "\n",
    "horizontal = get_max_cord_from_line_by_index(line_a, 1)\n",
    "vertical = get_max_cord_from_line_by_index(line_b, 0)\n",
    "# init vertical line\n",
    "\n",
    "horizontal_line = Line(Point(0, vertical), (1, vertical))\n",
    "\n",
    "# check angle between this lines\n",
    "\n",
    "vertical_line = Line(Point(horizontal, 0), (horizontal, 1))\n",
    "\n",
    "#\n",
    "phi = horizontal_line.angle_between(line_a)\n",
    "aplha = vertical_line.angle_between(line_b)\n",
    "\n",
    "print(line_a.equation(), alpha, sep=',')\n",
    "\n",
    "print(line_b.equation(), phi, sep=',')"
   ]
  },
  {
   "cell_type": "code",
   "execution_count": 53,
   "metadata": {
    "collapsed": true
   },
   "outputs": [],
   "source": [
    "from sympy.plotting import plot_implicit\n",
    "from sympy import Eq\n",
    "from sympy.plotting import plot\n",
    "\n",
    "# XXX TODO Add plotting\n",
    "\n",
    "# p = plot(line_a.equation(), (x, -10, 10))\n",
    "\n"
   ]
  },
  {
   "cell_type": "code",
   "execution_count": null,
   "metadata": {
    "collapsed": true
   },
   "outputs": [
    {
     "name": "stdout",
     "output_type": "stream",
     "text": [
      "5.36754446796632 10.2219219164378\n"
     ]
    }
   ],
   "source": [
    "# for now i will hardcode center o\n",
    "import math\n",
    "\n",
    "O = line_a.points[0]\n",
    "\n",
    "# i will take random point on the line\n",
    "# now it will be hardcoded\n",
    "\n",
    "A = line_a.points[1]\n",
    "\n",
    "_i = O[0] + (A[0] - O[0]) * math.cos(alpha) - (A[1] - O[1]) * math.sin(alpha)\n",
    "_j = O[1] + (A[0] - O[0]) * math.sin(alpha) + (A[1] - O[1]) * math.cos(alpha)\n",
    "\n",
    "x_res = _i * math.cos(phi) - _j * math.sin(phi)\n",
    "y_res = _i * math.sin(phi) + _j * math.cos(phi)\n",
    "\n",
    "print(x_res, y_res)\n"
   ]
  },
  {
   "cell_type": "code",
   "execution_count": 91,
   "metadata": {},
   "outputs": [],
   "source": []
  },
  {
   "cell_type": "code",
   "execution_count": null,
   "metadata": {},
   "outputs": [],
   "source": []
  }
 ],
 "metadata": {
  "kernelspec": {
   "display_name": "Python 2",
   "language": "python",
   "name": "python2"
  },
  "language_info": {
   "codemirror_mode": {
    "name": "ipython",
    "version": 2
   },
   "file_extension": ".py",
   "mimetype": "text/x-python",
   "name": "python",
   "nbconvert_exporter": "python",
   "pygments_lexer": "ipython2",
   "version": "2.7.6"
  }
 },
 "nbformat": 4,
 "nbformat_minor": 0
}
